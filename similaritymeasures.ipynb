{
 "cells": [
  {
   "cell_type": "code",
   "execution_count": 1,
   "metadata": {},
   "outputs": [],
   "source": [
    "#!/usr/bin/env python\n",
    "\n",
    "from math import*\n",
    "from decimal import Decimal\n",
    "\n",
    "class Similarity():\n",
    "\n",
    "    \"\"\" Five similarity measures function \"\"\"\n",
    "\n",
    "    def euclidean_distance(self,x,y):\n",
    "\n",
    "        \"\"\" return euclidean distance between two lists \"\"\"\n",
    "\n",
    "        return sqrt(sum(pow(a-b,2) for a, b in zip(x, y)))\n",
    "\n",
    "    def manhattan_distance(self,x,y):\n",
    "\n",
    "        \"\"\" return manhattan distance between two lists \"\"\"\n",
    "\n",
    "        return sum(abs(a-b) for a,b in zip(x,y))\n",
    "\n",
    "    def minkowski_distance(self,x,y,p_value):\n",
    "\n",
    "        \"\"\" return minkowski distance between two lists \"\"\"\n",
    "\n",
    "        return self.nth_root(sum(pow(abs(a-b),p_value) for a,b in zip(x, y)),p_value)\n",
    "\n",
    "    def nth_root(self,value, n_root):\n",
    "\n",
    "        \"\"\" returns the n_root of an value \"\"\"\n",
    "\n",
    "        root_value = 1/float(n_root)\n",
    "        return round (Decimal(value) ** Decimal(root_value),3)\n",
    "\n",
    "    def cosine_similarity(self,x,y):\n",
    "\n",
    "        \"\"\" return cosine similarity between two lists \"\"\"\n",
    "\n",
    "        numerator = sum(a*b for a,b in zip(x,y))\n",
    "        denominator = self.square_rooted(x)*self.square_rooted(y)\n",
    "        return round(numerator/float(denominator),3)\n",
    "\n",
    "    def square_rooted(self,x):\n",
    "\n",
    "        \"\"\" return 3 rounded square rooted value \"\"\"\n",
    "\n",
    "    return round(sqrt(sum([a*a for a in x])),3)\n",
    "\n",
    "    def jaccard_similarity(self,x,y):\n",
    "\n",
    "        \"\"\" returns the jaccard similarity between two lists \"\"\"\n",
    "\n",
    "        intersection_cardinality = len(set.intersection(*[set(x), set(y)]))\n",
    "        union_cardinality = len(set.union(*[set(x), set(y)]))\n",
    "        return intersection_cardinality/float(union_cardinality)\n",
    "    \n",
    "    def zeroCounter(x):\n",
    "        i = 0\n",
    "        for l in x:\n",
    "            if l == 0:\n",
    "                i += 1\n",
    "        return i\n",
    "    \n",
    "    def Salton_ochiai(self,x,y):\n",
    "\n",
    "        \"\"\" returns the Salton_ochiai similarity between two lists \"\"\"\n",
    "\n",
    "        intersection_cardinality = len(set.intersection(*[set(x), set(y)]))\n",
    "        lenX = len(x) - zeroCounter(x)\n",
    "        lenY = len(y) - zeroCounter(y)\n",
    "        multiply_cardinality = sqrt(lenX * lenY)\n",
    "        # union_cardinality = len(set.union(*[set(x), set(y)]))\n",
    "        return intersection_cardinality / float(multiply_cardinality) \n",
    "\n",
    "def cosine_Salton_Ochiai(self, x, y, alpha=2.5):\n",
    "    return (Salton_ochiai(self,x,y) ** alpha) * cosine_similarity(self,x,y)"
   ]
  },
  {
   "cell_type": "code",
   "execution_count": 5,
   "metadata": {},
   "outputs": [
    {
     "name": "stdout",
     "output_type": "stream",
     "text": [
      "9.746794344808963\n",
      "0.375\n"
     ]
    }
   ],
   "source": [
    " #!/usr/bin/env python\n",
    "\n",
    "# from similaritymeasures import Similarity\n",
    "\n",
    "def main():\n",
    "    \"\"\" main function to create Similarity class instance and get use of it \"\"\"\n",
    "    measures = Similarity()\n",
    "    print(measures.euclidean_distance([0,3,4,5],[7,6,3,-1]))\n",
    "    \n",
    "    print(measures.jaccard_similarity([0,1,2,5,6],[0,2,3,5,7,9]))\n",
    "\n",
    "if __name__ == \"__main__\":\n",
    "    main() "
   ]
  },
  {
   "cell_type": "code",
   "execution_count": null,
   "metadata": {},
   "outputs": [],
   "source": []
  }
 ],
 "metadata": {
  "kernelspec": {
   "display_name": "Python 3",
   "language": "python",
   "name": "python3"
  },
  "language_info": {
   "codemirror_mode": {
    "name": "ipython",
    "version": 3
   },
   "file_extension": ".py",
   "mimetype": "text/x-python",
   "name": "python",
   "nbconvert_exporter": "python",
   "pygments_lexer": "ipython3",
   "version": "3.6.9"
  }
 },
 "nbformat": 4,
 "nbformat_minor": 2
}
